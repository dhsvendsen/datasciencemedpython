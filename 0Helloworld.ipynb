{
 "cells": [
  {
   "cell_type": "markdown",
   "metadata": {},
   "source": [
    "# Velkommen\n",
    "\n",
    "Filen du har åbnet er en såkaldt *Jupyter notebook*. Vi kommer til at bruge dem kurset igennem så det er super nyttigt at forstå hvordan de virker. Der er to grundlæggende ting at vide om notebooks:\n",
    "\n",
    "1. En notebook er en liste af celler. En celle kan være en **kode-celle** eller en **Markdown-celle**. kode-celler er til at skrive kode som vi gerne vil køre, og Markdown-celler (som denne) er til at skrive forklarende tekst, og gøre notebooken mere læsbar. Prøv at dobbelt-klikke på denne celle for at få adgang til den underlæggende Markdown. Brug derefter <kbd>shift</kbd>+<kbd>enter</kbd> til at køre cellen.\n",
    "2. En notebook kan være i **command mode** og **edit mode**. Man aktiverer command mode ved at trykke <kbd>esc</kbd> eller klikke ude for cellen så den venstre margen bliver *blå*. Når du er i command mode kan du bruge <kbd>b</kbd> for at lave en ny celle under den markerede, og <kbd>y</kbd> eller <kbd>m</kbd> for at gøre cellen til hhv. en kode-celle eller markdown-celle. Man aktiverer edit mode ved at dobbetklikke inde i en celle eller trykke <kbd>enter</kbd>. \n",
    "\n",
    "Jeg har skrevet noget kode i cellen forneden, prøv at navigere ned til cellen ved først at trykke <kbd>esc</kbd> og derefter at bruge piletasterne. Når cellen er markeret, brug <kbd>shift</kbd>+<kbd>enter</kbd> for at køre koden."
   ]
  },
  {
   "cell_type": "code",
   "execution_count": null,
   "metadata": {},
   "outputs": [],
   "source": [
    "# Man kan bruge havelåge til at skrive kommentarer. Dette er en kode-celle\n",
    "print('Hello World!')"
   ]
  },
  {
   "cell_type": "code",
   "execution_count": null,
   "metadata": {},
   "outputs": [],
   "source": [
    "# Dette er også en kode-celle!\n",
    "for i in range(10):\n",
    "    print(i, 'i anden er', i**2)"
   ]
  },
  {
   "cell_type": "markdown",
   "metadata": {},
   "source": [
    "Super, du har nu det fornødne programmel til at deltage i kurset!"
   ]
  }
 ],
 "metadata": {
  "kernelspec": {
   "display_name": "Python 3 (ipykernel)",
   "language": "python",
   "name": "python3"
  },
  "language_info": {
   "codemirror_mode": {
    "name": "ipython",
    "version": 3
   },
   "file_extension": ".py",
   "mimetype": "text/x-python",
   "name": "python",
   "nbconvert_exporter": "python",
   "pygments_lexer": "ipython3",
   "version": "3.10.5"
  }
 },
 "nbformat": 4,
 "nbformat_minor": 4
}
